{
 "cells": [
  {
   "cell_type": "markdown",
   "metadata": {
    "collapsed": true
   },
   "source": [
    "# Artificial Intelligence Nanodegree\n",
    "## Machine Translation Project\n",
    "In this notebook, sections that end with **'(IMPLEMENTATION)'** in the header indicate that the following blocks of code will require additional functionality which you must provide. Please be sure to read the instructions carefully!\n",
    "\n",
    "## Introduction\n",
    "In this notebook, you will build a deep neural network that functions as part of an end-to-end machine translation pipeline. Your completed pipeline will accept English text as input and return the French translation.\n",
    "\n",
    "- **Preprocess** - You'll convert text to sequence of integers.\n",
    "- **Models** Create models which accepts a sequence of integers as input and returns a probability distribution over possible translations. After learning about the basic types of neural networks that are often used for machine translation, you will engage in your own investigations, to design your own model!\n",
    "- **Prediction** Run the model on English text.\n",
    "\n",
    "## Dataset\n",
    "We begin by investigating the dataset that will be used to train and evaluate your pipeline.  The most common datasets used for machine translation are from [WMT](http://www.statmt.org/).  However, that will take a long time to train a neural network on.  We'll be using a dataset we created for this project that contains a small vocabulary.  You'll be able to train your model in a reasonable time with this dataset.\n",
    "### Load Data\n",
    "The data is located in `data/small_vocab_en` and `data/small_vocab_fr`. The `small_vocab_en` file contains English sentences with their French translations in the `small_vocab_fr` file. Load the English and French data from these files from running the cell below."
   ]
  },
  {
   "cell_type": "code",
   "execution_count": 1,
   "metadata": {},
   "outputs": [
    {
     "name": "stdout",
     "output_type": "stream",
     "text": [
      "Dataset Loaded\n"
     ]
    }
   ],
   "source": [
    "import helper\n",
    "\n",
    "# Load English data\n",
    "english_sentences = helper.load_data('data/small_vocab_en')\n",
    "# Load French data\n",
    "french_sentences = helper.load_data('data/small_vocab_fr')\n",
    "\n",
    "print('Dataset Loaded')"
   ]
  },
  {
   "cell_type": "markdown",
   "metadata": {},
   "source": [
    "### Files\n",
    "Each line in `small_vocab_en` contains an English sentence with the respective translation in each line of `small_vocab_fr`.  View the first two lines from each file."
   ]
  },
  {
   "cell_type": "code",
   "execution_count": 2,
   "metadata": {},
   "outputs": [
    {
     "name": "stdout",
     "output_type": "stream",
     "text": [
      "small_vocab_en Line 1:  new jersey is sometimes quiet during autumn , and it is snowy in april .\n",
      "small_vocab_fr Line 1:  new jersey est parfois calme pendant l' automne , et il est neigeux en avril .\n",
      "small_vocab_en Line 2:  the united states is usually chilly during july , and it is usually freezing in november .\n",
      "small_vocab_fr Line 2:  les états-unis est généralement froid en juillet , et il gèle habituellement en novembre .\n"
     ]
    }
   ],
   "source": [
    "for sample_i in range(2):\n",
    "    print('small_vocab_en Line {}:  {}'.format(sample_i + 1, english_sentences[sample_i]))\n",
    "    print('small_vocab_fr Line {}:  {}'.format(sample_i + 1, french_sentences[sample_i]))"
   ]
  },
  {
   "cell_type": "markdown",
   "metadata": {},
   "source": [
    "From looking at the sentences, you can see they have been preprocessed already.  The puncuations have been delimited using spaces. All the text have been converted to lowercase.  This should save you some time, but the text requires more preprocessing.\n",
    "### Vocabulary\n",
    "The complexity of the problem is determined by the complexity of the vocabulary.  A more complex vocabulary is a more complex problem.  Let's look at the complexity of the dataset we'll be working with."
   ]
  },
  {
   "cell_type": "code",
   "execution_count": 3,
   "metadata": {},
   "outputs": [
    {
     "name": "stdout",
     "output_type": "stream",
     "text": [
      "1823250 English words.\n",
      "227 unique English words.\n",
      "10 Most common words in the English dataset:\n",
      "\"is\" \",\" \".\" \"in\" \"it\" \"during\" \"the\" \"but\" \"and\" \"sometimes\"\n",
      "\n",
      "1961295 French words.\n",
      "355 unique French words.\n",
      "10 Most common words in the French dataset:\n",
      "\"est\" \".\" \",\" \"en\" \"il\" \"les\" \"mais\" \"et\" \"la\" \"parfois\"\n"
     ]
    }
   ],
   "source": [
    "import collections\n",
    "\n",
    "\n",
    "english_words_counter = collections.Counter([word for sentence in english_sentences for word in sentence.split()])\n",
    "french_words_counter = collections.Counter([word for sentence in french_sentences for word in sentence.split()])\n",
    "\n",
    "print('{} English words.'.format(len([word for sentence in english_sentences for word in sentence.split()])))\n",
    "print('{} unique English words.'.format(len(english_words_counter)))\n",
    "print('10 Most common words in the English dataset:')\n",
    "print('\"' + '\" \"'.join(list(zip(*english_words_counter.most_common(10)))[0]) + '\"')\n",
    "print()\n",
    "print('{} French words.'.format(len([word for sentence in french_sentences for word in sentence.split()])))\n",
    "print('{} unique French words.'.format(len(french_words_counter)))\n",
    "print('10 Most common words in the French dataset:')\n",
    "print('\"' + '\" \"'.join(list(zip(*french_words_counter.most_common(10)))[0]) + '\"')"
   ]
  },
  {
   "cell_type": "markdown",
   "metadata": {},
   "source": [
    "For comparison, _Alice's Adventures in Wonderland_ contains 2,766 unique words of a total of 15,500 words.\n",
    "## Preprocess\n",
    "For this project, you won't use text data as input to your model. Instead, you'll convert the text into sequences of integers using the following preprocess methods:\n",
    "1. Tokenize the words into ids\n",
    "2. Add padding to make all the sequences the same length.\n",
    "\n",
    "Time to start preprocessing the data...\n",
    "### Tokenize (IMPLEMENTATION)\n",
    "For a neural network to predict on text data, it first has to be turned into data it can understand. Text data like \"dog\" is a sequence of ASCII character encodings.  Since a neural network is a series of multiplication and addition operations, the input data needs to be number(s).\n",
    "\n",
    "We can turn each character into a number or each word into a number.  These are called character and word ids, respectively.  Character ids are used for character level models that generate text predictions for each character.  A word level model uses word ids that generate text predictions for each word.  Word level models tend to learn better, since they are lower in complexity, so we'll use those.\n",
    "\n",
    "Turn each sentence into a sequence of words ids using Keras's [`Tokenizer`](https://keras.io/preprocessing/text/#tokenizer) function. Use this function to tokenize `english_sentences` and `french_sentences` in the cell below.\n",
    "\n",
    "Running the cell will run `tokenize` on sample data and show output for debugging."
   ]
  },
  {
   "cell_type": "code",
   "execution_count": 4,
   "metadata": {},
   "outputs": [
    {
     "name": "stderr",
     "output_type": "stream",
     "text": [
      "Using TensorFlow backend.\n"
     ]
    },
    {
     "name": "stdout",
     "output_type": "stream",
     "text": [
      "{'the': 1, 'quick': 2, 'a': 3, 'brown': 4, 'fox': 5, 'jumps': 6, 'over': 7, 'lazy': 8, 'dog': 9, 'by': 10, 'jove': 11, 'my': 12, 'study': 13, 'of': 14, 'lexicography': 15, 'won': 16, 'prize': 17, 'this': 18, 'is': 19, 'short': 20, 'sentence': 21}\n",
      "\n",
      "Sequence 1 in x\n",
      "  Input:  The quick brown fox jumps over the lazy dog .\n",
      "  Output: [1, 2, 4, 5, 6, 7, 1, 8, 9]\n",
      "Sequence 2 in x\n",
      "  Input:  By Jove , my quick study of lexicography won a prize .\n",
      "  Output: [10, 11, 12, 2, 13, 14, 15, 16, 3, 17]\n",
      "Sequence 3 in x\n",
      "  Input:  This is a short sentence .\n",
      "  Output: [18, 19, 3, 20, 21]\n"
     ]
    }
   ],
   "source": [
    "import project_tests as tests\n",
    "from keras.preprocessing.text import Tokenizer\n",
    "\n",
    "\n",
    "def tokenize(x):\n",
    "    \"\"\"\n",
    "    Tokenize x\n",
    "    :param x: List of sentences/strings to be tokenized\n",
    "    :return: Tuple of (tokenized x data, tokenizer used to tokenize x)\n",
    "    \"\"\"\n",
    "    tokenizer = Tokenizer(num_words=None,\n",
    "        filters='!\"#$%&()*+,-./:;<=>?@[\\\\]^_`{|}~\\t\\n',\n",
    "        lower=True,\n",
    "        split=\" \",\n",
    "        char_level=False)\n",
    "    \n",
    "    tokenizer.fit_on_texts(x)\n",
    "    \n",
    "    tokenized = tokenizer.texts_to_sequences(x)\n",
    "    \n",
    "    return tokenized, tokenizer\n",
    "\n",
    "tests.test_tokenize(tokenize)\n",
    "\n",
    "# Tokenize Example output\n",
    "text_sentences = [\n",
    "    'The quick brown fox jumps over the lazy dog .',\n",
    "    'By Jove , my quick study of lexicography won a prize .',\n",
    "    'This is a short sentence .']\n",
    "text_tokenized, text_tokenizer = tokenize(text_sentences)\n",
    "print(text_tokenizer.word_index)\n",
    "print()\n",
    "for sample_i, (sent, token_sent) in enumerate(zip(text_sentences, text_tokenized)):\n",
    "    print('Sequence {} in x'.format(sample_i + 1))\n",
    "    print('  Input:  {}'.format(sent))\n",
    "    print('  Output: {}'.format(token_sent))"
   ]
  },
  {
   "cell_type": "markdown",
   "metadata": {},
   "source": [
    "### Padding (IMPLEMENTATION)\n",
    "When batching the sequence of word ids together, each sequence needs to be the same length.  Since sentences are dynamic in length, we can add padding to the end of the sequences to make them the same length.\n",
    "\n",
    "Make sure all the English sequences have the same length and all the French sequences have the same length by adding padding to the **end** of each sequence using Keras's [`pad_sequences`](https://keras.io/preprocessing/sequence/#pad_sequences) function."
   ]
  },
  {
   "cell_type": "code",
   "execution_count": 5,
   "metadata": {},
   "outputs": [
    {
     "name": "stdout",
     "output_type": "stream",
     "text": [
      "Sequence 1 in x\n",
      "  Input:  [1 2 4 5 6 7 1 8 9]\n",
      "  Output: [1 2 4 5 6 7 1 8 9 0]\n",
      "Sequence 2 in x\n",
      "  Input:  [10 11 12  2 13 14 15 16  3 17]\n",
      "  Output: [10 11 12  2 13 14 15 16  3 17]\n",
      "Sequence 3 in x\n",
      "  Input:  [18 19  3 20 21]\n",
      "  Output: [18 19  3 20 21  0  0  0  0  0]\n"
     ]
    }
   ],
   "source": [
    "import numpy as np\n",
    "from keras.preprocessing.sequence import pad_sequences\n",
    "\n",
    "\n",
    "def pad(x, length=None):\n",
    "    \"\"\"\n",
    "    Pad x\n",
    "    :param x: List of sequences.\n",
    "    :param length: Length to pad the sequence to.  If None, use length of longest sequence in x.\n",
    "    :return: Padded numpy array of sequences\n",
    "    \"\"\"\n",
    "    if length is None:\n",
    "        length = max([len(s) for s in x])\n",
    "        \n",
    "    padded = pad_sequences(x, length, padding='post', truncating='post')\n",
    "    \n",
    "    return padded\n",
    "tests.test_pad(pad)\n",
    "\n",
    "# Pad Tokenized output\n",
    "test_pad = pad(text_tokenized)\n",
    "for sample_i, (token_sent, pad_sent) in enumerate(zip(text_tokenized, test_pad)):\n",
    "    print('Sequence {} in x'.format(sample_i + 1))\n",
    "    print('  Input:  {}'.format(np.array(token_sent)))\n",
    "    print('  Output: {}'.format(pad_sent))"
   ]
  },
  {
   "cell_type": "markdown",
   "metadata": {},
   "source": [
    "### Preprocess Pipeline\n",
    "Your focus for this project is to build neural network architecture, so we won't ask you to create a preprocess pipeline.  Instead, we've provided you with the implementation of the `preprocess` function."
   ]
  },
  {
   "cell_type": "code",
   "execution_count": 6,
   "metadata": {},
   "outputs": [
    {
     "name": "stdout",
     "output_type": "stream",
     "text": [
      "Data Preprocessed\n"
     ]
    }
   ],
   "source": [
    "def preprocess(x, y):\n",
    "    \"\"\"\n",
    "    Preprocess x and y\n",
    "    :param x: Feature List of sentences\n",
    "    :param y: Label List of sentences\n",
    "    :return: Tuple of (Preprocessed x, Preprocessed y, x tokenizer, y tokenizer)\n",
    "    \"\"\"\n",
    "    preprocess_x, x_tk = tokenize(x)\n",
    "    preprocess_y, y_tk = tokenize(y)\n",
    "\n",
    "    preprocess_x = pad(preprocess_x)\n",
    "    preprocess_y = pad(preprocess_y)\n",
    "\n",
    "    # Keras's sparse_categorical_crossentropy function requires the labels to be in 3 dimensions\n",
    "    preprocess_y = preprocess_y.reshape(*preprocess_y.shape, 1)\n",
    "\n",
    "    return preprocess_x, preprocess_y, x_tk, y_tk\n",
    "\n",
    "preproc_english_sentences, preproc_french_sentences, english_tokenizer, french_tokenizer =\\\n",
    "    preprocess(english_sentences, french_sentences)\n",
    "\n",
    "print('Data Preprocessed')"
   ]
  },
  {
   "cell_type": "markdown",
   "metadata": {},
   "source": [
    "## Models\n",
    "In this section, you will experiment with various neural network architectures.\n",
    "You will begin by training four relatively simple architectures.\n",
    "- Model 1 is a simple RNN\n",
    "- Model 2 is a RNN with Embedding\n",
    "- Model 3 is a Bidirectional RNN\n",
    "- Model 4 is an optional Encoder-Decoder RNN\n",
    "\n",
    "After experimenting with the four simple architectures, you will construct a deeper architecture that is designed to outperform all four models.\n",
    "### Ids Back to Text\n",
    "The neural network will be translating the input to words ids, which isn't the final form we want.  We want the French translation.  The function `logits_to_text` will bridge the gab between the logits from the neural network to the French translation.  You'll be using this function to better understand the output of the neural network."
   ]
  },
  {
   "cell_type": "code",
   "execution_count": 7,
   "metadata": {},
   "outputs": [
    {
     "name": "stdout",
     "output_type": "stream",
     "text": [
      "`logits_to_text` function loaded.\n"
     ]
    }
   ],
   "source": [
    "def logits_to_text(logits, tokenizer):\n",
    "    \"\"\"\n",
    "    Turn logits from a neural network into text using the tokenizer\n",
    "    :param logits: Logits from a neural network\n",
    "    :param tokenizer: Keras Tokenizer fit on the labels\n",
    "    :return: String that represents the text of the logits\n",
    "    \"\"\"\n",
    "    index_to_words = {id: word for word, id in tokenizer.word_index.items()}\n",
    "    index_to_words[0] = '<PAD>'\n",
    "\n",
    "    return ' '.join([index_to_words[prediction] for prediction in np.argmax(logits, 1)])\n",
    "\n",
    "print('`logits_to_text` function loaded.')"
   ]
  },
  {
   "cell_type": "code",
   "execution_count": 8,
   "metadata": {
    "collapsed": true
   },
   "outputs": [],
   "source": [
    "def sequence_to_text(sequence, tokenizer):\n",
    "    \"\"\"\n",
    "    Turn word id sequence into text using the tokenizer\n",
    "    :param sequence: Id sequence representing a sentence\n",
    "    :param tokenizer: Keras Tokenizer fit on the labels\n",
    "    :return: String that represents the text of the logits\n",
    "    \"\"\"\n",
    "    index_to_words = {id: word for word, id in tokenizer.word_index.items()}\n",
    "    index_to_words[0] = '<PAD>'\n",
    "    \n",
    "    return ' '.join([index_to_words[word_id] for word_id in sequence])"
   ]
  },
  {
   "cell_type": "markdown",
   "metadata": {},
   "source": [
    "### Model 1: RNN (IMPLEMENTATION)\n",
    "![RNN](images/rnn.png)\n",
    "A basic RNN model is a good baseline for sequence data.  In this model, you'll build a RNN that translates English to French."
   ]
  },
  {
   "cell_type": "code",
   "execution_count": 56,
   "metadata": {
    "scrolled": true
   },
   "outputs": [
    {
     "name": "stdout",
     "output_type": "stream",
     "text": [
      "_________________________________________________________________\n",
      "Layer (type)                 Output Shape              Param #   \n",
      "=================================================================\n",
      "input_1 (InputLayer)         (None, 21, 1)             0         \n",
      "_________________________________________________________________\n",
      "gru_1 (GRU)                  (None, 21, 256)           198144    \n",
      "_________________________________________________________________\n",
      "time_distributed_1 (TimeDist (None, 21, 345)           88665     \n",
      "=================================================================\n",
      "Total params: 286,809\n",
      "Trainable params: 286,809\n",
      "Non-trainable params: 0\n",
      "_________________________________________________________________\n",
      "Train on 110288 samples, validate on 27573 samples\n",
      "Epoch 1/10\n",
      "110288/110288 [==============================] - 12s - loss: 1.8726 - sparse_categorical_accuracy: 0.5611 - val_loss: 1.5291 - val_sparse_categorical_accuracy: 0.59140 - sparse_categorical_ - ETA: 3s - loss: 2.0402 - sparse_categorical_accuracy: 0 - ETA: 2s - loss: 2.0055 - sparse_categor - ETA: 0s - loss: 1.8857 - sparse_categorical_accuracy: 0.5\n",
      "Epoch 2/10\n",
      "110288/110288 [==============================] - 11s - loss: 1.2512 - sparse_categorical_accuracy: 0.6414 - val_loss: 1.7817 - val_sparse_categorical_accuracy: 0.56970. - ETA: 9s - loss:  - ETA: 5s - loss: 1.2891 - sparse_categorical_ac - ETA: 3s - loss: 1.2751 - - ETA: 0s - loss: 1.2517 - sparse_categorical_accuracy: 0.641\n",
      "Epoch 3/10\n",
      "110288/110288 [==============================] - 11s - loss: 1.1320 - sparse_categorical_accuracy: 0.6558 - val_loss: 1.9308 - val_sparse_categorical_accuracy: 0.5671: 8s - loss: 1 - ETA: 4s - loss: 1.1491 - sparse_categorical_accuracy: - ETA: 3s - loss: 1.1466 - s - ETA: 0s - loss: 1.1328 - sparse_categorical_accuracy: 0.65\n",
      "Epoch 4/10\n",
      "110288/110288 [==============================] - 11s - loss: 1.0634 - sparse_categorical_accuracy: 0.6659 - val_loss: 2.1901 - val_sparse_categorical_accuracy: 0.5507. - ETA: 2s - loss: 1.0663 - sparse_categor - ETA: 0s - loss: 1.0636 - sparse_categorical_accuracy: 0.665\n",
      "Epoch 5/10\n",
      "110288/110288 [==============================] - 11s - loss: 1.0134 - sparse_categorical_accuracy: 0.6739 - val_loss: 2.3952 - val_sparse_categorical_accuracy: 0.5331s - loss: 1.0180 - sparse_categorical_accuracy: 0 - ETA: 2s - loss: 1.0169 - sparse_categorical_accuracy:  - ETA: 1s - loss: 1.0163 - sparse_categorical_accuracy: 0.673 - ETA: 1s - loss: 1.0160 - sparse_categorical_accuracy: 0.673 - ETA: 1s - loss: 1.0157 - sparse_categorical_acc\n",
      "Epoch 6/10\n",
      "110288/110288 [==============================] - 11s - loss: 0.9872 - sparse_categorical_accuracy: 0.6786 - val_loss: 2.5509 - val_sparse_categorical_accuracy: 0.5366 - ETA: 0s - loss: 0.9886 - sparse_categorical_accurac\n",
      "Epoch 7/10\n",
      "110288/110288 [==============================] - 12s - loss: 0.9537 - sparse_categorical_accuracy: 0.6859 - val_loss: 2.7337 - val_sparse_categorical_accuracy: 0.5148.68 - ETA: 7s - loss: 0.9638 - sparse_categorical_acc - ETA: 6s - loss: 0.9632 - sparse_categorical_accuracy - ETA: 5s - loss: 0.9605 - sparse - ETA: 2s - loss: 0.9600 - sparse_categorical_accuracy: 0 - ETA: 2s - loss: 0.9590 - sparse_categ\n",
      "Epoch 8/10\n",
      "110288/110288 [==============================] - 11s - loss: 0.9226 - sparse_categorical_accuracy: 0.6945 - val_loss: 2.8396 - val_sparse_categorical_accuracy: 0.5164 loss: 0.9308 - sparse_categorical_accuracy: 0 - ETA: 8s - loss: 0.9310 - sparse_categorical_accuracy: 0.69 - ETA: 8s - loss: 0.9289 - ETA: 4s - loss: 0.9298 - sparse_categorical_accuracy: 0 - ETA: 3s - loss: 0.9289 - sparse_categorical_accuracy: 0 - ETA: 3s - loss: 0.9279 - sparse_categorical_accuracy: 0.6 - ETA: 3s - loss: 0.9274 - sparse_categoric - ETA: 1s - loss: 0.9259 - sparse_categorical_acc\n",
      "Epoch 9/10\n",
      "110288/110288 [==============================] - 11s - loss: 0.9141 - sparse_categorical_accuracy: 0.6928 - val_loss: 2.7993 - val_sparse_categorical_accuracy: 0.5196s: 0.9317 - sparse_categorical_accuracy: 0. - ETA: 7s - loss: 0.9291 - sparse_cate - ETA: 5s - loss: 0.9212 - sparse_categorical_accuracy: 0.692 - ETA: 5s - loss: 0.9207 - sparse_categorical_a - ETA: 3s - loss: 0.9166 - sparse_categorical_accuracy - ETA: 2s - loss: 0.9154 - sparse_categorical_accuracy:  - ETA: 2s - loss: 0.9152 - sparse_cate\n",
      "Epoch 10/10\n",
      "110288/110288 [==============================] - 11s - loss: 0.9028 - sparse_categorical_accuracy: 0.6958 - val_loss: 2.9272 - val_sparse_categorical_accuracy: 0.5090s - loss: 0.8968 - sparse_categorical_accuracy: 0.69 - ETA: 5s - loss: 0.8966 - sparse_categorical_accuracy: 0. - ETA: 5s - loss: 0.8948 - sparse_categori - ETA: 3s - loss: 0.9029 - sparse_categorical_accuracy - ETA: 2s - loss: 0.9057 - sparse_categorical_acc - ETA: 1s - loss: 0.9057 - sparse_categorical_accuracy: 0.695 - ETA: 1s - loss: 0.9057 - sparse_categorical_accura - ETA: 0s - loss: 0.9038 - sparse_categorical_accuracy: 0.6\n",
      "English:  new jersey is sometimes quiet during autumn and it is snowy in april <PAD> <PAD> <PAD> <PAD> <PAD> <PAD> <PAD> <PAD>\n",
      "French:  new jersey est parfois belle en l' automne l' est agréable en printemps <PAD> <PAD> <PAD> <PAD> <PAD> <PAD> <PAD> <PAD>\n"
     ]
    }
   ],
   "source": [
    "import keras\n",
    "from keras.layers import GRU, LSTM, Input, Dense, TimeDistributed, Masking, Dropout\n",
    "from keras.models import Model\n",
    "from keras.layers import Activation\n",
    "from keras.optimizers import Adam\n",
    "from keras.losses import sparse_categorical_crossentropy\n",
    "\n",
    "# clear previous sessions\n",
    "keras.backend.clear_session()\n",
    "\n",
    "def simple_model(input_shape, output_sequence_length, english_vocab_size, french_vocab_size):\n",
    "    \"\"\"\n",
    "    Build and train a basic RNN on x and y\n",
    "    :param input_shape: Tuple of input shape\n",
    "    :param output_sequence_length: Length of output sequence\n",
    "    :param english_vocab_size: Number of unique English words in the dataset\n",
    "    :param french_vocab_size: Number of unique French words in the dataset\n",
    "    :return: Keras model built, but not trained\n",
    "    \"\"\"\n",
    "    # TODO: Build the layers\n",
    "    learning_rate = 0.01\n",
    "\n",
    "    # define model\n",
    "    input_layer = Input(shape=[input_shape[1], input_shape[2]])\n",
    "    gru_1 = GRU(256, return_sequences=True, dropout=0.2)(input_layer)\n",
    "    output_layer = TimeDistributed(Dense(french_vocab_size+1, activation='softmax'))(gru_1)\n",
    "\n",
    "    # compile model\n",
    "    model = Model(inputs=[input_layer], outputs=[output_layer])\n",
    "    model.compile(loss=sparse_categorical_crossentropy,\n",
    "                  optimizer=Adam(learning_rate),\n",
    "                  metrics=['sparse_categorical_accuracy'])\n",
    "    return model\n",
    "#tests.test_simple_model(simple_model)\n",
    "\n",
    "# Reshaping the input to work with a basic RNN\n",
    "tmp_x = pad(preproc_english_sentences, preproc_french_sentences.shape[1])\n",
    "tmp_x = tmp_x.reshape((-1, preproc_french_sentences.shape[-2], 1))\n",
    "tmp_y = preproc_french_sentences\n",
    "\n",
    "# Train the neural network\n",
    "simple_rnn_model = simple_model(\n",
    "    tmp_x.shape,\n",
    "    preproc_french_sentences.shape[1],\n",
    "    len(english_tokenizer.word_index),\n",
    "    len(french_tokenizer.word_index))\n",
    "simple_rnn_model.summary()\n",
    "\n",
    "simple_rnn_model.fit(tmp_x, tmp_y, batch_size=1024, epochs=10, validation_split=0.2)\n",
    "\n",
    "# Print prediction(s)\n",
    "print(\"English: \", sequence_to_text(tmp_x[:1][0].reshape(tmp_x.shape[-2]), english_tokenizer))\n",
    "print(\"French: \", logits_to_text(simple_rnn_model.predict(tmp_x[:1])[0], french_tokenizer))\n"
   ]
  },
  {
   "cell_type": "markdown",
   "metadata": {},
   "source": [
    "### Model 2: Embedding (IMPLEMENTATION)\n",
    "![RNN](images/embedding.png)\n",
    "You've turned the words into ids, but there's a better representation of a word.  This is called word embeddings.  An embedding is a vector representation of the word that is close to similar words in n-dimensional space, where the n represents the size of the embedding vectors.\n",
    "\n",
    "In this model, you'll create a RNN model using embedding."
   ]
  },
  {
   "cell_type": "code",
   "execution_count": 14,
   "metadata": {},
   "outputs": [
    {
     "name": "stdout",
     "output_type": "stream",
     "text": [
      "_________________________________________________________________\n",
      "Layer (type)                 Output Shape              Param #   \n",
      "=================================================================\n",
      "input_1 (InputLayer)         (None, 21)                0         \n",
      "_________________________________________________________________\n",
      "embedding_1 (Embedding)      (None, 21, 64)            12800     \n",
      "_________________________________________________________________\n",
      "gru_1 (GRU)                  (None, 21, 256)           246528    \n",
      "_________________________________________________________________\n",
      "time_distributed_1 (TimeDist (None, 21, 256)           65792     \n",
      "_________________________________________________________________\n",
      "dropout_1 (Dropout)          (None, 21, 256)           0         \n",
      "_________________________________________________________________\n",
      "time_distributed_2 (TimeDist (None, 21, 345)           88665     \n",
      "=================================================================\n",
      "Total params: 413,785\n",
      "Trainable params: 413,785\n",
      "Non-trainable params: 0\n",
      "_________________________________________________________________\n",
      "Train on 110288 samples, validate on 27573 samples\n",
      "Epoch 1/10\n",
      "110288/110288 [==============================] - 14s - loss: 1.6245 - sparse_categorical_accuracy: 0.6412 - val_loss: 0.5494 - val_sparse_categorical_accuracy: 0.8331\n",
      "Epoch 2/10\n",
      "110288/110288 [==============================] - 13s - loss: 0.4709 - sparse_categorical_accuracy: 0.8545 - val_loss: 0.3219 - val_sparse_categorical_accuracy: 0.8946\n",
      "Epoch 3/10\n",
      "110288/110288 [==============================] - 13s - loss: 0.3309 - sparse_categorical_accuracy: 0.8938 - val_loss: 0.2590 - val_sparse_categorical_accuracy: 0.9142\n",
      "Epoch 4/10\n",
      "110288/110288 [==============================] - 13s - loss: 0.2763 - sparse_categorical_accuracy: 0.9096 - val_loss: 0.2340 - val_sparse_categorical_accuracy: 0.9212\n",
      "Epoch 5/10\n",
      "110288/110288 [==============================] - 13s - loss: 0.2500 - sparse_categorical_accuracy: 0.9171 - val_loss: 0.2207 - val_sparse_categorical_accuracy: 0.9246\n",
      "Epoch 6/10\n",
      "110288/110288 [==============================] - 13s - loss: 0.2353 - sparse_categorical_accuracy: 0.9213 - val_loss: 0.2098 - val_sparse_categorical_accuracy: 0.9278\n",
      "Epoch 7/10\n",
      "110288/110288 [==============================] - 13s - loss: 0.2241 - sparse_categorical_accuracy: 0.9243 - val_loss: 0.2072 - val_sparse_categorical_accuracy: 0.9292\n",
      "Epoch 8/10\n",
      "110288/110288 [==============================] - 13s - loss: 0.2163 - sparse_categorical_accuracy: 0.9263 - val_loss: 0.1976 - val_sparse_categorical_accuracy: 0.9315\n",
      "Epoch 9/10\n",
      "110288/110288 [==============================] - 13s - loss: 0.2137 - sparse_categorical_accuracy: 0.9270 - val_loss: 0.1963 - val_sparse_categorical_accuracy: 0.9322\n",
      "Epoch 10/10\n",
      "110288/110288 [==============================] - 13s - loss: 0.2084 - sparse_categorical_accuracy: 0.9284 - val_loss: 0.1987 - val_sparse_categorical_accuracy: 0.9318\n",
      "English:  new jersey is sometimes quiet during autumn and it is snowy in april <PAD> <PAD> <PAD> <PAD> <PAD> <PAD> <PAD> <PAD>\n",
      "French:  new jersey est parfois calme en l' automne et il est neigeux en avril <PAD> <PAD> <PAD> <PAD> <PAD> <PAD> <PAD>\n"
     ]
    }
   ],
   "source": [
    "from keras.layers.embeddings import Embedding\n",
    "from keras.models import Sequential\n",
    "\n",
    "keras.backend.clear_session()\n",
    "\n",
    "def embed_model(input_shape, output_sequence_length, english_vocab_size, french_vocab_size):\n",
    "    \"\"\"\n",
    "    Build and train a RNN model using word embedding on x and y\n",
    "    :param input_shape: Tuple of input shape\n",
    "    :param output_sequence_length: Length of output sequence\n",
    "    :param english_vocab_size: Number of unique English words in the dataset\n",
    "    :param french_vocab_size: Number of unique French words in the dataset\n",
    "    :return: Keras model built, but not trained\n",
    "    \"\"\"\n",
    "    # TODO: Implement\n",
    "    learning_rate = 0.01 \n",
    "    \n",
    "    input_layer = Input(shape=(input_shape[-1],))\n",
    "    embed = Embedding(english_vocab_size+1, 64, mask_zero=False)(input_layer)\n",
    "    gru_1 = GRU(256, return_sequences=True, dropout=0.2)(embed)\n",
    "    dense_1 = TimeDistributed(Dense(256, activation='relu'))(gru_1)\n",
    "    drop_1 = Dropout(0.2)(dense_1)\n",
    "    output_layer = TimeDistributed(Dense(french_vocab_size+1, activation='softmax'))(drop_1)\n",
    "    \n",
    "    model = Model(inputs=[input_layer], outputs=[output_layer])\n",
    "    \n",
    "    model.compile(loss=sparse_categorical_crossentropy,\n",
    "        optimizer=Adam(learning_rate),\n",
    "        metrics=['sparse_categorical_accuracy']\n",
    "    )\n",
    "    \n",
    "    return model\n",
    "#tests.test_embed_model(embed_model)\n",
    "\n",
    "# TODO: Reshape the input\n",
    "tmp_x = pad(preproc_english_sentences, preproc_french_sentences.shape[1])\n",
    "#tmp_x = tmp_x.reshape((-1, preproc_french_sentences.shape[-2], 1))\n",
    "tmp_y = preproc_french_sentences\n",
    "\n",
    "embed_rnn_model = embed_model(\n",
    "    tmp_x.shape,\n",
    "    preproc_french_sentences.shape[1],\n",
    "    len(english_tokenizer.word_index),\n",
    "    len(french_tokenizer.word_index))\n",
    "embed_rnn_model.summary()\n",
    "\n",
    "\n",
    "# TODO: Train the neural network\n",
    "embed_rnn_model.fit(tmp_x, tmp_y, batch_size=1024, epochs=10, validation_split=0.2)\n",
    "\n",
    "# TODO: Print prediction(s)\n",
    "print(\"English: \", sequence_to_text(tmp_x[:1][0], english_tokenizer))\n",
    "print(\"French: \", logits_to_text(embed_rnn_model.predict(tmp_x[:1])[0], french_tokenizer))"
   ]
  },
  {
   "cell_type": "markdown",
   "metadata": {},
   "source": [
    "### Model 3: Bidirectional RNNs (IMPLEMENTATION)\n",
    "![RNN](images/bidirectional.png)\n",
    "One restriction of a RNN is that it can't see the future input, only the past.  This is where bidirectional recurrent neural networks come in.  They are able to see the future data."
   ]
  },
  {
   "cell_type": "code",
   "execution_count": 20,
   "metadata": {},
   "outputs": [
    {
     "name": "stdout",
     "output_type": "stream",
     "text": [
      "_________________________________________________________________\n",
      "Layer (type)                 Output Shape              Param #   \n",
      "=================================================================\n",
      "input_6 (InputLayer)         (None, 21, 1)             0         \n",
      "_________________________________________________________________\n",
      "bidirectional_4 (Bidirection (None, 21, 256)           99840     \n",
      "_________________________________________________________________\n",
      "time_distributed_10 (TimeDis (None, 21, 256)           65792     \n",
      "_________________________________________________________________\n",
      "dropout_5 (Dropout)          (None, 21, 256)           0         \n",
      "_________________________________________________________________\n",
      "time_distributed_11 (TimeDis (None, 21, 345)           88665     \n",
      "=================================================================\n",
      "Total params: 254,297\n",
      "Trainable params: 254,297\n",
      "Non-trainable params: 0\n",
      "_________________________________________________________________\n",
      "Train on 110288 samples, validate on 27573 samples\n",
      "Epoch 1/10\n",
      "110288/110288 [==============================] - 14s - loss: 1.7321 - sparse_categorical_accuracy: 0.5786 - val_loss: 1.1788 - val_sparse_categorical_accuracy: 0.6550\n",
      "Epoch 2/10\n",
      "110288/110288 [==============================] - 14s - loss: 1.1324 - sparse_categorical_accuracy: 0.6626 - val_loss: 1.0125 - val_sparse_categorical_accuracy: 0.6861\n",
      "Epoch 3/10\n",
      "110288/110288 [==============================] - 14s - loss: 1.0075 - sparse_categorical_accuracy: 0.6821 - val_loss: 0.9053 - val_sparse_categorical_accuracy: 0.7003\n",
      "Epoch 4/10\n",
      "110288/110288 [==============================] - 14s - loss: 0.9366 - sparse_categorical_accuracy: 0.6932 - val_loss: 0.8531 - val_sparse_categorical_accuracy: 0.7092\n",
      "Epoch 5/10\n",
      "110288/110288 [==============================] - 14s - loss: 0.8799 - sparse_categorical_accuracy: 0.7043 - val_loss: 0.7981 - val_sparse_categorical_accuracy: 0.7253\n",
      "Epoch 6/10\n",
      "110288/110288 [==============================] - 14s - loss: 0.8582 - sparse_categorical_accuracy: 0.7090 - val_loss: 0.8262 - val_sparse_categorical_accuracy: 0.7085\n",
      "Epoch 7/10\n",
      "110288/110288 [==============================] - 14s - loss: 0.8234 - sparse_categorical_accuracy: 0.7144 - val_loss: 0.7436 - val_sparse_categorical_accuracy: 0.7293\n",
      "Epoch 8/10\n",
      "110288/110288 [==============================] - 14s - loss: 0.7893 - sparse_categorical_accuracy: 0.7199 - val_loss: 0.7169 - val_sparse_categorical_accuracy: 0.7376\n",
      "Epoch 9/10\n",
      "110288/110288 [==============================] - 14s - loss: 0.7593 - sparse_categorical_accuracy: 0.7289 - val_loss: 0.7200 - val_sparse_categorical_accuracy: 0.7461\n",
      "Epoch 10/10\n",
      "110288/110288 [==============================] - 14s - loss: 0.7412 - sparse_categorical_accuracy: 0.7337 - val_loss: 0.6882 - val_sparse_categorical_accuracy: 0.7497\n",
      "English:  new jersey is sometimes quiet during autumn and it is snowy in april <PAD> <PAD> <PAD> <PAD> <PAD> <PAD> <PAD> <PAD>\n",
      "French:  new jersey est parfois parfois en mois et mai et il est en en <PAD> <PAD> <PAD> <PAD> <PAD> <PAD> <PAD>\n"
     ]
    }
   ],
   "source": [
    "from keras.layers import Bidirectional\n",
    "\n",
    "\n",
    "def bd_model(input_shape, output_sequence_length, english_vocab_size, french_vocab_size):\n",
    "    \"\"\"\n",
    "    Build and train a bidirectional RNN model on x and y\n",
    "    :param input_shape: Tuple of input shape\n",
    "    :param output_sequence_length: Length of output sequence\n",
    "    :param english_vocab_size: Number of unique English words in the dataset\n",
    "    :param french_vocab_size: Number of unique French words in the dataset\n",
    "    :return: Keras model built, but not trained\n",
    "    \"\"\"\n",
    "    # TODO: Implement\n",
    "    # TODO: Reshape the input\n",
    "    learning_rate = 0.01\n",
    "    \n",
    "    input_ = Input(shape=(input_shape[1], input_shape[2]))\n",
    "    bi_gru_1 = Bidirectional(GRU(128, return_sequences=True))(input_)\n",
    "    dense_1 = TimeDistributed(Dense(256, activation='relu'))(bi_gru_1)\n",
    "    drop_1 = Dropout(0.2)(dense_1)\n",
    "    output_ = TimeDistributed(Dense(french_vocab_size+1, activation='softmax'))(drop_1)\n",
    "    \n",
    "    model = Model(inputs=[input_], outputs=[output_])\n",
    "    model.compile(loss=sparse_categorical_crossentropy, \n",
    "                  optimizer=Adam(learning_rate), \n",
    "                  metrics=['sparse_categorical_accuracy'])\n",
    "    \n",
    "    return model\n",
    "#tests.test_bd_model(bd_model)\n",
    "\n",
    "# TODO: Train and Print prediction(s)\n",
    "tmp_x = pad(preproc_english_sentences, preproc_french_sentences.shape[1])\n",
    "tmp_x = tmp_x.reshape((-1, preproc_french_sentences.shape[1], 1))\n",
    "tmp_y = preproc_french_sentences\n",
    "\n",
    "bd_rnn_model = bd_model(\n",
    "    tmp_x.shape,\n",
    "    preproc_french_sentences.shape[1],\n",
    "    len(english_tokenizer.word_index),\n",
    "    len(french_tokenizer.word_index))\n",
    "bd_rnn_model.summary()\n",
    "\n",
    "bd_rnn_model.fit(tmp_x, tmp_y, batch_size=1024, epochs=10, validation_split=0.2)\n",
    "\n",
    "print(\"English: \", sequence_to_text(tmp_x[:1][0].reshape(tmp_x.shape[-2]), english_tokenizer))\n",
    "print(\"French: \", logits_to_text(bd_rnn_model.predict(tmp_x[:1])[0], french_tokenizer))"
   ]
  },
  {
   "cell_type": "markdown",
   "metadata": {},
   "source": [
    "### Model 4: Encoder-Decoder (OPTIONAL)\n",
    "Time to look at encoder-decoder models.  This model is made up of an encoder and decoder. The encoder creates a matrix representation of the sentence.  The decoder takes this matrix as input and predicts the translation as output.\n",
    "\n",
    "Create an encoder-decoder model in the cell below."
   ]
  },
  {
   "cell_type": "code",
   "execution_count": 31,
   "metadata": {
    "scrolled": true
   },
   "outputs": [
    {
     "name": "stdout",
     "output_type": "stream",
     "text": [
      "_________________________________________________________________\n",
      "Layer (type)                 Output Shape              Param #   \n",
      "=================================================================\n",
      "input_12 (InputLayer)        (None, 15, 1)             0         \n",
      "_________________________________________________________________\n",
      "gru_18 (GRU)                 (None, 256)               198144    \n",
      "_________________________________________________________________\n",
      "repeat_vector_7 (RepeatVecto (None, 21, 256)           0         \n",
      "_________________________________________________________________\n",
      "gru_19 (GRU)                 (None, 21, 256)           393984    \n",
      "_________________________________________________________________\n",
      "time_distributed_21 (TimeDis (None, 21, 345)           88665     \n",
      "=================================================================\n",
      "Total params: 680,793\n",
      "Trainable params: 680,793\n",
      "Non-trainable params: 0\n",
      "_________________________________________________________________\n",
      "Train on 110288 samples, validate on 27573 samples\n",
      "Epoch 1/5\n",
      "110288/110288 [==============================] - 19s - loss: 2.4492 - sparse_categorical_accuracy: 0.4671 - val_loss: 1.7155 - val_sparse_categorical_accuracy: 0.5619\n",
      "Epoch 2/5\n",
      "110288/110288 [==============================] - 19s - loss: 1.5205 - sparse_categorical_accuracy: 0.5938 - val_loss: 1.3701 - val_sparse_categorical_accuracy: 0.6198\n",
      "Epoch 3/5\n",
      "110288/110288 [==============================] - 19s - loss: 1.3221 - sparse_categorical_accuracy: 0.6260 - val_loss: 1.2471 - val_sparse_categorical_accuracy: 0.6398\n",
      "Epoch 4/5\n",
      "110288/110288 [==============================] - 19s - loss: 1.2273 - sparse_categorical_accuracy: 0.6433 - val_loss: 1.1925 - val_sparse_categorical_accuracy: 0.6455\n",
      "Epoch 5/5\n",
      "110288/110288 [==============================] - 19s - loss: 1.1642 - sparse_categorical_accuracy: 0.6540 - val_loss: 1.1655 - val_sparse_categorical_accuracy: 0.6522\n",
      "English:  new jersey is sometimes quiet during autumn and it is snowy in april <PAD> <PAD>\n",
      "French:  new jersey est généralement froid en l' et il est est en en <PAD> <PAD> <PAD> <PAD> <PAD> <PAD> <PAD> <PAD>\n"
     ]
    }
   ],
   "source": [
    "from keras.layers import RepeatVector\n",
    "\n",
    "\n",
    "def encdec_model(input_shape, output_sequence_length, english_vocab_size, french_vocab_size):\n",
    "    \"\"\"\n",
    "    Build and train an encoder-decoder model on x and y\n",
    "    :param input_shape: Tuple of input shape\n",
    "    :param output_sequence_length: Length of output sequence\n",
    "    :param english_vocab_size: Number of unique English words in the dataset\n",
    "    :param french_vocab_size: Number of unique French words in the dataset\n",
    "    :return: Keras model built, but not trained\n",
    "    \"\"\"\n",
    "    # OPTIONAL: Implement\n",
    "    learning_rate = 0.01\n",
    "\n",
    "    input_layer = Input(shape=[input_shape[1], input_shape[2]])\n",
    "    gru_1 = GRU(256, return_sequences=False)(input_layer)\n",
    "    repeat_1 = RepeatVector(output_sequence_length)(gru_1)\n",
    "    gru_2 = GRU(256, return_sequences=True)(repeat_1)\n",
    "    output_layer = TimeDistributed(Dense(french_vocab_size+1, activation='softmax'))(gru_2)\n",
    "\n",
    "    model = Model(inputs=[input_layer], outputs=[output_layer])\n",
    "    model.compile(loss=sparse_categorical_crossentropy,\n",
    "                  optimizer=Adam(learning_rate),\n",
    "                  metrics=['sparse_categorical_accuracy'])\n",
    "    return model\n",
    "#tests.test_encdec_model(encdec_model)\n",
    "\n",
    "# OPTIONAL: Train and Print prediction(s)\n",
    "tmp_x = preproc_english_sentences\n",
    "tmp_x = tmp_x.reshape((-1, preproc_english_sentences.shape[-1], 1))\n",
    "tmp_y = preproc_french_sentences\n",
    "\n",
    "# Train the neural network\n",
    "encdec_rnn_model = encdec_model(\n",
    "    tmp_x.shape,\n",
    "    preproc_french_sentences.shape[1],\n",
    "    len(english_tokenizer.word_index),\n",
    "    len(french_tokenizer.word_index))\n",
    "encdec_rnn_model.summary()\n",
    "\n",
    "encdec_rnn_model.fit(tmp_x, tmp_y, batch_size=1024, epochs=5, validation_split=0.2)\n",
    "\n",
    "# Print prediction(s)\n",
    "print(\"English: \", sequence_to_text(tmp_x[:1][0].reshape(tmp_x.shape[-2]), english_tokenizer))\n",
    "print(\"French: \", logits_to_text(encdec_rnn_model.predict(tmp_x[:1])[0], french_tokenizer))"
   ]
  },
  {
   "cell_type": "markdown",
   "metadata": {},
   "source": [
    "### Model 5: Custom (IMPLEMENTATION)\n",
    "Use everything you learned from the previous models to create a model that incorporates embedding and a bidirectional rnn into one model."
   ]
  },
  {
   "cell_type": "code",
   "execution_count": 52,
   "metadata": {},
   "outputs": [
    {
     "name": "stdout",
     "output_type": "stream",
     "text": [
      "Final Model Loaded\n"
     ]
    }
   ],
   "source": [
    "import keras.backend as K\n",
    "from keras.layers import LSTM\n",
    "\n",
    "def model_final(input_shape, output_sequence_length, english_vocab_size, french_vocab_size):\n",
    "    \"\"\"\n",
    "    Build and train a model that incorporates embedding, encoder-decoder, and bidirectional RNN on x and y\n",
    "    :param input_shape: Tuple of input shape\n",
    "    :param output_sequence_length: Length of output sequence\n",
    "    :param english_vocab_size: Number of unique English words in the dataset\n",
    "    :param french_vocab_size: Number of unique French words in the dataset\n",
    "    :return: Keras model built, but not trained\n",
    "    \"\"\"\n",
    "    # TODO: Implement\n",
    "    learn_rate = 0.01\n",
    "    embed_size = 100\n",
    "    \n",
    "    # clear tensorflow default model graph\n",
    "    K.clear_session()\n",
    "    \n",
    "    # Input layer\n",
    "    input_ = Input(shape=(input_shape[1],))\n",
    "    \n",
    "    # Embedding layer\n",
    "    embed_1 = Embedding(english_vocab_size+1, embed_size)(input_)\n",
    "    \n",
    "    # Encode-Decode layer\n",
    "    gru_1 = Bidirectional(GRU(128, return_sequences=False, dropout=0.2))(embed_1)\n",
    "    repeat_1 = RepeatVector(output_sequence_length)(gru_1)\n",
    "    gru_3 = LSTM(256, return_sequences=True, dropout=0.2)(repeat_1)\n",
    "    \n",
    "    # Relu layer to detect features\n",
    "    dense_1 = TimeDistributed(Dense(256, activation='relu'))(gru_3)\n",
    "    dense_1_drop = Dropout(0.2)(dense_1)\n",
    "    \n",
    "    # Output layer\n",
    "    output_ = TimeDistributed(Dense(french_vocab_size+1, activation='softmax'))(dense_1_drop)\n",
    "    \n",
    "    # Create model\n",
    "    model = Model(inputs=[input_], outputs=[output_])\n",
    "    model.compile(\n",
    "        loss=sparse_categorical_crossentropy,\n",
    "        optimizer=Adam(lr=learn_rate),\n",
    "        metrics=['sparse_categorical_accuracy']\n",
    "    )\n",
    "    \n",
    "    return model\n",
    "#tests.test_model_final(model_final)\n",
    "\n",
    "print('Final Model Loaded')"
   ]
  },
  {
   "cell_type": "markdown",
   "metadata": {},
   "source": [
    "## Prediction (IMPLEMENTATION)"
   ]
  },
  {
   "cell_type": "code",
   "execution_count": 54,
   "metadata": {},
   "outputs": [
    {
     "name": "stdout",
     "output_type": "stream",
     "text": [
      "_________________________________________________________________\n",
      "Layer (type)                 Output Shape              Param #   \n",
      "=================================================================\n",
      "input_1 (InputLayer)         (None, 15)                0         \n",
      "_________________________________________________________________\n",
      "embedding_1 (Embedding)      (None, 15, 100)           20000     \n",
      "_________________________________________________________________\n",
      "bidirectional_1 (Bidirection (None, 256)               175872    \n",
      "_________________________________________________________________\n",
      "repeat_vector_1 (RepeatVecto (None, 21, 256)           0         \n",
      "_________________________________________________________________\n",
      "lstm_1 (LSTM)                (None, 21, 256)           525312    \n",
      "_________________________________________________________________\n",
      "time_distributed_1 (TimeDist (None, 21, 256)           65792     \n",
      "_________________________________________________________________\n",
      "dropout_1 (Dropout)          (None, 21, 256)           0         \n",
      "_________________________________________________________________\n",
      "time_distributed_2 (TimeDist (None, 21, 345)           88665     \n",
      "=================================================================\n",
      "Total params: 875,641\n",
      "Trainable params: 875,641\n",
      "Non-trainable params: 0\n",
      "_________________________________________________________________\n",
      "Train on 110288 samples, validate on 27573 samples\n",
      "Epoch 1/10\n",
      "110288/110288 [==============================] - 26s - loss: 2.2127 - sparse_categorical_accuracy: 0.5245 - val_loss: 1.1753 - val_sparse_categorical_accuracy: 0.6773\n",
      "Epoch 2/10\n",
      "110288/110288 [==============================] - 26s - loss: 1.0148 - sparse_categorical_accuracy: 0.7128 - val_loss: 0.7865 - val_sparse_categorical_accuracy: 0.7695\n",
      "Epoch 3/10\n",
      "110288/110288 [==============================] - 26s - loss: 0.7093 - sparse_categorical_accuracy: 0.7863 - val_loss: 0.5127 - val_sparse_categorical_accuracy: 0.8431\n",
      "Epoch 4/10\n",
      "110288/110288 [==============================] - 26s - loss: 0.4790 - sparse_categorical_accuracy: 0.8532 - val_loss: 0.3248 - val_sparse_categorical_accuracy: 0.9043\n",
      "Epoch 5/10\n",
      "110288/110288 [==============================] - 26s - loss: 0.3247 - sparse_categorical_accuracy: 0.9034 - val_loss: 0.2082 - val_sparse_categorical_accuracy: 0.9418\n",
      "Epoch 6/10\n",
      "110288/110288 [==============================] - 26s - loss: 0.2436 - sparse_categorical_accuracy: 0.9292 - val_loss: 0.1680 - val_sparse_categorical_accuracy: 0.9523\n",
      "Epoch 7/10\n",
      "110288/110288 [==============================] - 26s - loss: 0.2056 - sparse_categorical_accuracy: 0.9403 - val_loss: 0.1370 - val_sparse_categorical_accuracy: 0.9598\n",
      "Epoch 8/10\n",
      "110288/110288 [==============================] - 26s - loss: 0.1760 - sparse_categorical_accuracy: 0.9483 - val_loss: 0.1179 - val_sparse_categorical_accuracy: 0.9654\n",
      "Epoch 9/10\n",
      "110288/110288 [==============================] - 26s - loss: 0.1591 - sparse_categorical_accuracy: 0.9529 - val_loss: 0.1140 - val_sparse_categorical_accuracy: 0.9661\n",
      "Epoch 10/10\n",
      "110288/110288 [==============================] - 26s - loss: 0.1531 - sparse_categorical_accuracy: 0.9548 - val_loss: 0.1195 - val_sparse_categorical_accuracy: 0.9650\n",
      "Sample 1:\n",
      "il a vu un vieux camion jaune <PAD> <PAD> <PAD> <PAD> <PAD> <PAD> <PAD> <PAD> <PAD> <PAD> <PAD> <PAD> <PAD> <PAD>\n",
      "Il a vu un vieux camion jaune\n",
      "Sample 2:\n",
      "new jersey est parfois calme pendant l' automne et il est neigeux en avril <PAD> <PAD> <PAD> <PAD> <PAD> <PAD> <PAD>\n",
      "<PAD> <PAD> <PAD> <PAD> <PAD> <PAD> <PAD> <PAD> <PAD> <PAD> <PAD> <PAD> <PAD> <PAD> <PAD> <PAD> <PAD> <PAD> <PAD> <PAD> <PAD>\n"
     ]
    }
   ],
   "source": [
    "import numpy as np\n",
    "from keras.preprocessing.sequence import pad_sequences\n",
    "\n",
    "def final_predictions(x, y, x_tk, y_tk):\n",
    "    \"\"\"\n",
    "    Gets predictions using the final model\n",
    "    :param x: Preprocessed English data\n",
    "    :param y: Preprocessed French data\n",
    "    :param x_tk: English tokenizer\n",
    "    :param y_tk: French tokenizer\n",
    "    \"\"\"\n",
    "    # TODO: Train neural network using model_final\n",
    "    tmp_x = preproc_english_sentences\n",
    "    tmp_y = preproc_french_sentences\n",
    "\n",
    "    # Create model\n",
    "    model = model_final(\n",
    "        tmp_x.shape,\n",
    "        preproc_french_sentences.shape[1],\n",
    "        len(english_tokenizer.word_index),\n",
    "        len(french_tokenizer.word_index))\n",
    "    model.summary()\n",
    "    \n",
    "    # Train model\n",
    "    model.fit(tmp_x, tmp_y, batch_size=1024, epochs=10, validation_split=0.2)\n",
    "    \n",
    "    ## DON'T EDIT ANYTHING BELOW THIS LINE\n",
    "    y_id_to_word = {value: key for key, value in y_tk.word_index.items()}\n",
    "    y_id_to_word[0] = '<PAD>'\n",
    "\n",
    "    sentence = 'he saw a old yellow truck'\n",
    "    sentence = [x_tk.word_index[word] for word in sentence.split()]\n",
    "    sentence = pad_sequences([sentence], maxlen=x.shape[-1], padding='post')\n",
    "    sentences = np.array([sentence[0], x[0]])\n",
    "    predictions = model.predict(sentences, len(sentences))\n",
    "\n",
    "    print('Sample 1:')\n",
    "    print(' '.join([y_id_to_word[np.argmax(x)] for x in predictions[0]]))\n",
    "    print('Il a vu un vieux camion jaune')\n",
    "    print('Sample 2:')\n",
    "    print(' '.join([y_id_to_word[np.argmax(x)] for x in predictions[1]]))\n",
    "    print(' '.join([y_id_to_word[np.argmax(x)] for x in y[0]]))\n",
    "\n",
    "\n",
    "final_predictions(preproc_english_sentences, preproc_french_sentences, english_tokenizer, french_tokenizer)"
   ]
  },
  {
   "cell_type": "markdown",
   "metadata": {},
   "source": [
    "## Submission\n",
    "When you are ready to submit your project, do the following steps:\n",
    "1. Ensure you pass all points on the [rubric](https://review.udacity.com/#!/rubrics/1004/view).\n",
    "2. Submit the following in a zip file.\n",
    "  - `helper.py`\n",
    "  - `machine_translation.ipynb`\n",
    "  - `machine_translation.html`\n",
    "    - You can export the notebook by navigating to **File -> Download as -> HTML (.html)**."
   ]
  }
 ],
 "metadata": {
  "kernelspec": {
   "display_name": "Python 3",
   "language": "python",
   "name": "python3"
  },
  "language_info": {
   "codemirror_mode": {
    "name": "ipython",
    "version": 3
   },
   "file_extension": ".py",
   "mimetype": "text/x-python",
   "name": "python",
   "nbconvert_exporter": "python",
   "pygments_lexer": "ipython3",
   "version": "3.6.2"
  }
 },
 "nbformat": 4,
 "nbformat_minor": 1
}
